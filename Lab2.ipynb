{
  "cells": [
    {
      "cell_type": "markdown",
      "source": [
        "# Azure OpenAI: Prompt Engineering for Coding Tasks"
      ],
      "metadata": {
        "id": "gUIEP9y7NHxU"
      }
    },
    {
      "cell_type": "code",
      "execution_count": null,
      "metadata": {
        "colab": {
          "base_uri": "https://localhost:8080/"
        },
        "id": "7KQD1SXcnSYu",
        "outputId": "9f36f175-4ec5-4309-cff4-7e9c76c060e5"
      },
      "outputs": [
        {
          "name": "stdout",
          "output_type": "stream",
          "text": [
            "\u001b[2K     \u001b[90m━━━━━━━━━━━━━━━━━━━━━━━━━━━━━━━━━━━━━━━━\u001b[0m \u001b[32m77.0/77.0 kB\u001b[0m \u001b[31m1.7 MB/s\u001b[0m eta \u001b[36m0:00:00\u001b[0m\n",
            "\u001b[2K     \u001b[90m━━━━━━━━━━━━━━━━━━━━━━━━━━━━━━━━━━━━━━━━\u001b[0m \u001b[32m1.6/1.6 MB\u001b[0m \u001b[31m14.2 MB/s\u001b[0m eta \u001b[36m0:00:00\u001b[0m\n",
            "\u001b[?25h"
          ]
        }
      ],
      "source": [
        "!pip install openai --quiet"
      ]
    },
    {
      "cell_type": "code",
      "execution_count": null,
      "metadata": {
        "id": "qP21QdTRno_A"
      },
      "outputs": [],
      "source": [
        "import openai\n",
        "import os\n",
        "from openai import AzureOpenAI"
      ]
    },
    {
      "cell_type": "code",
      "execution_count": null,
      "metadata": {
        "id": "VPFAnv3rM8U0"
      },
      "outputs": [],
      "source": [
        "api_key = \"XXXXXXXXXXXXXXXX488252f\"\n",
        "api_version = \"2023-07-01-preview\" # \"2023-05-15\"\n",
        "azure_endpoint = \"https://XXXXXX.openai.azure.com/\"\n",
        "model_name = \"XXXXX\""
      ]
    },
    {
      "cell_type": "code",
      "execution_count": null,
      "metadata": {
        "id": "AWcDdeofM8U0"
      },
      "outputs": [],
      "source": [
        "from openai import AzureOpenAI\n",
        "\n",
        "# gets the API Key from environment variable AZURE_OPENAI_API_KEY\n",
        "client = AzureOpenAI(\n",
        "    # https://learn.microsoft.com/en-us/azure/ai-services/openai/reference#rest-api-versioning\n",
        "    api_version=api_version,\n",
        "    # https://learn.microsoft.com/en-us/azure/cognitive-services/openai/how-to/create-resource?pivots=web-portal#create-a-resource\n",
        "    azure_endpoint=azure_endpoint,\n",
        "    api_key = api_key,\n",
        "\n",
        ")"
      ]
    },
    {
      "cell_type": "code",
      "execution_count": null,
      "metadata": {
        "id": "Xv50i87gy_UX"
      },
      "outputs": [],
      "source": [
        "def get_chat(messages,temp=0.0):\n",
        "  response = client.chat.completions.create(\n",
        "      messages=messages,\n",
        "      model = model_name,\n",
        "      temperature=temp,\n",
        "  )\n",
        "  return response.choices[0].message.content"
      ]
    },
    {
      "cell_type": "markdown",
      "metadata": {
        "id": "qjb3J7DzygTu"
      },
      "source": [
        "# Calculate Code Complexity"
      ]
    },
    {
      "cell_type": "code",
      "execution_count": null,
      "metadata": {
        "colab": {
          "base_uri": "https://localhost:8080/"
        },
        "id": "IVXYhAUHyfUJ",
        "outputId": "7c486c3b-d16d-47ca-fac1-6321a77eca53"
      },
      "outputs": [
        {
          "name": "stdout",
          "output_type": "stream",
          "text": [
            "The time complexity of this code can be calculated by analyzing the number of iterations in the nested loops.\n",
            "\n",
            "The outer loop iterates `c` times, and the inner loop iterates `v` times. Therefore, the total number of iterations is `c * v`.\n",
            "\n",
            "Since there are no other significant operations in the code, the time complexity can be expressed as O(c * v).\n"
          ]
        }
      ],
      "source": [
        "code = \"\"\"\n",
        "def myfun(c,v):\n",
        "  counter = 0\n",
        "  for i in range(c):\n",
        "    for j in range(v):\n",
        "      counter +=1\n",
        "  return counter\n",
        "\"\"\"\n",
        "\n",
        "messages = [{\"role\":\"system\",'content':\"you will be provided with python code, and your task is to calculate its time complexity.\"},\n",
        "            {\"role\":\"user\",'content':code}]\n",
        "\n",
        "print(get_chat(messages))"
      ]
    },
    {
      "cell_type": "markdown",
      "metadata": {
        "id": "LOKpnaYF2DE0"
      },
      "source": [
        "# Improve code efficiency"
      ]
    },
    {
      "cell_type": "code",
      "execution_count": null,
      "metadata": {
        "colab": {
          "base_uri": "https://localhost:8080/"
        },
        "id": "2K0FKxFmz5ZN",
        "outputId": "7e2bbac8-59eb-40cf-f886-9091c0a5c0e3"
      },
      "outputs": [
        {
          "name": "stdout",
          "output_type": "stream",
          "text": [
            "One possible improvement is to use a set to store the complement of each number in the list. By doing so, we can reduce the time complexity from O(n^2) to O(n).\n",
            "\n",
            "Here's an updated version of the code:\n",
            "\n",
            "```python\n",
            "from typing import List\n",
            "\n",
            "def has_sum_k(nums: List[int], k: int) -> bool:\n",
            "    '''\n",
            "    Returns True if there are two distinct elements in nums such that their sum\n",
            "    is equal to k, and otherwise returns False.\n",
            "    '''\n",
            "    complements = set()\n",
            "    for num in nums:\n",
            "        complement = k - num\n",
            "        if complement in complements:\n",
            "            return True\n",
            "        complements.add(num)\n",
            "    return False\n",
            "```\n",
            "\n",
            "In this version, we iterate through each number in the list and check if its complement (k - num) is already in the set of complements. If it is, we know that there are two distinct elements that sum up to k, so we return True. Otherwise, we add the number to the set of complements and continue to the next number. If we reach the end of the loop without finding a pair, we return False.\n"
          ]
        }
      ],
      "source": [
        "code = \"\"\"\n",
        "from typing import List\n",
        "def has_sum_k(nums: List[int], k: int) -> bool:\n",
        "    '''\n",
        "    Returns True if there are two distinct elements in nums such that their sum\n",
        "    is equal to k, and otherwise returns False.\n",
        "    '''\n",
        "    n = len(nums)\n",
        "    for i in range(n):\n",
        "        for j in range(i+1, n):\n",
        "            if nums[i] + nums[j] == k:\n",
        "                return True\n",
        "    return False\n",
        "\"\"\"\n",
        "\n",
        "messages = [{\"role\":\"system\",'content':\"you will be provided with a piece of python code, and your task is to provide better ideas for efficiency improvements.\"},\n",
        "            {\"role\":\"user\",'content':code}]\n",
        "\n",
        "print(get_chat(messages))"
      ]
    },
    {
      "cell_type": "markdown",
      "metadata": {
        "id": "8LxdSdLf22pr"
      },
      "source": [
        "# Explain a piece of code"
      ]
    },
    {
      "cell_type": "code",
      "execution_count": null,
      "metadata": {
        "colab": {
          "base_uri": "https://localhost:8080/"
        },
        "id": "jyGTdcws22FM",
        "outputId": "1b401e21-d516-4702-da31-fad2b9c026be"
      },
      "outputs": [
        {
          "name": "stdout",
          "output_type": "stream",
          "text": [
            "This code defines a function called `has_sum_k` that takes in a list of integers `nums` and an integer `k`. The function checks if there are two distinct elements in the list whose sum is equal to `k`. \n",
            "\n",
            "The function uses a nested loop to iterate through all possible pairs of elements in the list. It starts with the first element and compares it with all the elements that come after it. If the sum of the two elements is equal to `k`, the function returns `True`. If no such pair is found, the function returns `False`.\n"
          ]
        }
      ],
      "source": [
        "code = \"\"\"\n",
        "from typing import List\n",
        "def has_sum_k(nums: List[int], k: int) -> bool:\n",
        "    '''\n",
        "    Returns True if there are two distinct elements in nums such that their sum\n",
        "    is equal to k, and otherwise returns False.\n",
        "    '''\n",
        "    n = len(nums)\n",
        "    for i in range(n):\n",
        "        for j in range(i+1, n):\n",
        "            if nums[i] + nums[j] == k:\n",
        "                return True\n",
        "    return False\n",
        "\"\"\"\n",
        "\n",
        "messages = [{\"role\":\"system\",'content':\"you will be provided with a piece of python code, and your task is to explain it in a concise way.\"},\n",
        "            {\"role\":\"user\",'content':code}]\n",
        "\n",
        "print(get_chat(messages))"
      ]
    },
    {
      "cell_type": "markdown",
      "metadata": {
        "id": "14E54_2iM8U2"
      },
      "source": []
    },
    {
      "cell_type": "markdown",
      "metadata": {
        "id": "CC5fOCC239ct"
      },
      "source": [
        "# Code Generation with openAI"
      ]
    },
    {
      "cell_type": "code",
      "execution_count": null,
      "metadata": {
        "id": "lYf7YK5iM8U2",
        "outputId": "398b5b6a-6ba0-4829-ddd0-ee88ac6be14d"
      },
      "outputs": [
        {
          "name": "stdout",
          "output_type": "stream",
          "text": [
            "Sure! Here's an example of a binary search function in Python:\n",
            "\n",
            "```python\n",
            "def binary_search(arr, target):\n",
            "    low = 0\n",
            "    high = len(arr) - 1\n",
            "\n",
            "    while low <= high:\n",
            "        mid = (low + high) // 2\n",
            "        if arr[mid] == target:\n",
            "            return mid\n",
            "        elif arr[mid] < target:\n",
            "            low = mid + 1\n",
            "        else:\n",
            "            high = mid - 1\n",
            "\n",
            "    return -1\n",
            "```\n",
            "\n",
            "In this function, `arr` is the sorted array in which we want to search for the `target` value. The function starts by initializing `low` and `high` variables to represent the lower and upper bounds of the search range.\n",
            "\n",
            "The function then enters a while loop that continues until `low` becomes greater than `high`. Inside the loop, it calculates the middle index `mid` using integer division. If the value at the middle index is equal to the target, the function returns the index.\n",
            "\n",
            "If the value at the middle index is less than the target, it means the target is in the right half of the array. In this case, the `low` variable is updated to `mid + 1` to search in the right half.\n",
            "\n",
            "If the value at the middle index is greater than the target, it means the target is in the left half of the array. In this case, the `high` variable is updated to `mid - 1` to search in the left half.\n",
            "\n",
            "If the target is not found in the array, the function returns -1 to indicate that the target is not present.\n",
            "\n",
            "You can call this function by passing the sorted array and the target value as arguments, like this:\n",
            "\n",
            "```python\n",
            "arr = [1, 2, 3, 4, 5, 6, 7, 8, 9]\n",
            "target = 6\n",
            "result = binary_search(arr, target)\n",
            "print(\"Element found at index:\", result)\n",
            "```\n",
            "\n",
            "This will output: `Element found at index: 5`, indicating that the target value 6 is found at index 5 in the array.\n"
          ]
        }
      ],
      "source": [
        "messages = [{\"role\":\"system\",'content':\"you will be provided with a task to write a python code, and your task is to write it.\"},\n",
        "            {\"role\":\"user\",'content':\"write a function for binary search in python\"}]\n",
        "print(get_chat(messages))"
      ]
    },
    {
      "cell_type": "markdown",
      "metadata": {
        "id": "2RAyyhrcM8U3"
      },
      "source": []
    },
    {
      "cell_type": "code",
      "execution_count": null,
      "metadata": {
        "id": "fwi2-spdM8U3"
      },
      "outputs": [],
      "source": []
    },
    {
      "cell_type": "markdown",
      "metadata": {
        "id": "O2hRbfpzM8U3"
      },
      "source": [
        "## Create a single page website"
      ]
    },
    {
      "cell_type": "code",
      "execution_count": null,
      "metadata": {
        "colab": {
          "base_uri": "https://localhost:8080/"
        },
        "id": "uFegvaqx2oga",
        "outputId": "967c6f17-7ff1-4977-b43d-c49b4d902268"
      },
      "outputs": [
        {
          "name": "stdout",
          "output_type": "stream",
          "text": [
            "<!DOCTYPE html>\n",
            "<html>\n",
            "<head>\n",
            "  <title>Neat JavaScript Features</title>\n",
            "  <style>\n",
            "    .dropdown {\n",
            "      position: relative;\n",
            "      display: inline-block;\n",
            "    }\n",
            "\n",
            "    .dropdown-content {\n",
            "      display: none;\n",
            "      position: absolute;\n",
            "      background-color: #f9f9f9;\n",
            "      min-width: 160px;\n",
            "      box-shadow: 0px 8px 16px 0px rgba(0,0,0,0.2);\n",
            "      padding: 12px 16px;\n",
            "      z-index: 1;\n",
            "    }\n",
            "\n",
            "    .dropdown:hover .dropdown-content {\n",
            "      display: block;\n",
            "    }\n",
            "  </style>\n",
            "</head>\n",
            "<body>\n",
            "  <h1>Neat JavaScript Features</h1>\n",
            "\n",
            "  <h2>Dropdown Example</h2>\n",
            "  <div class=\"dropdown\">\n",
            "    <button>Click me</button>\n",
            "    <div class=\"dropdown-content\">\n",
            "      <p>Option 1</p>\n",
            "      <p>Option 2</p>\n",
            "      <p>Option 3</p>\n",
            "    </div>\n",
            "  </div>\n",
            "\n",
            "  <h2>Display Information</h2>\n",
            "  <button onclick=\"displayInfo()\">Show Info</button>\n",
            "  <p id=\"info\" style=\"display: none;\">This is some hidden information that will be displayed when the button is clicked.</p>\n",
            "\n",
            "  <script>\n",
            "    function displayInfo() {\n",
            "      document.getElementById(\"info\").style.display = \"block\";\n",
            "    }\n",
            "  </script>\n",
            "</body>\n",
            "</html>\n"
          ]
        }
      ],
      "source": [
        "messages = [{\"role\":\"user\",'content':\"Make a single page website that shows off different neat javascript features for drop downs and things to display information. The website should be an HTML file with embedded javascript and css. In the output only provide code without description\"}]\n",
        "\n",
        "response = get_chat(messages)\n",
        "print(response)"
      ]
    },
    {
      "cell_type": "code",
      "execution_count": null,
      "metadata": {
        "colab": {
          "base_uri": "https://localhost:8080/",
          "height": 338
        },
        "id": "o_goKgWh4tuA",
        "outputId": "0de77127-bbfe-47c2-f68d-9d8529b4821b"
      },
      "outputs": [
        {
          "data": {
            "text/html": [
              "<!DOCTYPE html>\n",
              "<html>\n",
              "<head>\n",
              "  <title>Neat JavaScript Features</title>\n",
              "  <style>\n",
              "    .dropdown {\n",
              "      position: relative;\n",
              "      display: inline-block;\n",
              "    }\n",
              "\n",
              "    .dropdown-content {\n",
              "      display: none;\n",
              "      position: absolute;\n",
              "      background-color: #f9f9f9;\n",
              "      min-width: 160px;\n",
              "      box-shadow: 0px 8px 16px 0px rgba(0,0,0,0.2);\n",
              "      padding: 12px 16px;\n",
              "      z-index: 1;\n",
              "    }\n",
              "\n",
              "    .dropdown:hover .dropdown-content {\n",
              "      display: block;\n",
              "    }\n",
              "  </style>\n",
              "</head>\n",
              "<body>\n",
              "  <h1>Neat JavaScript Features</h1>\n",
              "\n",
              "  <h2>Dropdown Example</h2>\n",
              "  <div class=\"dropdown\">\n",
              "    <button>Click me</button>\n",
              "    <div class=\"dropdown-content\">\n",
              "      <p>Option 1</p>\n",
              "      <p>Option 2</p>\n",
              "      <p>Option 3</p>\n",
              "    </div>\n",
              "  </div>\n",
              "\n",
              "  <h2>Display Information</h2>\n",
              "  <button onclick=\"displayInfo()\">Show Info</button>\n",
              "  <p id=\"info\" style=\"display: none;\">This is some hidden information that will be displayed when the button is clicked.</p>\n",
              "\n",
              "  <script>\n",
              "    function displayInfo() {\n",
              "      document.getElementById(\"info\").style.display = \"block\";\n",
              "    }\n",
              "  </script>\n",
              "</body>\n",
              "</html>"
            ],
            "text/plain": [
              "<IPython.core.display.HTML object>"
            ]
          },
          "metadata": {},
          "output_type": "display_data"
        }
      ],
      "source": [
        "from IPython.display import display, HTML\n",
        "display(HTML(response))"
      ]
    },
    {
      "cell_type": "markdown",
      "metadata": {
        "id": "xDo2blvaM8U3"
      },
      "source": [
        "## Complete a partial code"
      ]
    },
    {
      "cell_type": "code",
      "execution_count": null,
      "metadata": {
        "id": "zLWAp8syM8U4",
        "outputId": "d9947f21-04ab-4c3b-be8a-a9aa47c002dd"
      },
      "outputs": [
        {
          "name": "stdout",
          "output_type": "stream",
          "text": [
            "def calculate_average_even(numbers):\n",
            "    even_numbers = [num for num in numbers if num % 2 == 0]\n",
            "    if len(even_numbers) == 0:\n",
            "        return 0\n",
            "    else:\n",
            "        return sum(even_numbers) / len(even_numbers)\n"
          ]
        }
      ],
      "source": [
        "prompt = \"\"\"\n",
        "complete the following function\n",
        "# calculate the average of the numbers in an array, but only if they're even\n",
        "def\n",
        "\"\"\"\n",
        "messages = [{\"role\":\"system\",'content':\"you will be provided with a task to complete a partial python code, and your task is to complete it.\"},\n",
        "            {\"role\":\"user\",'content':prompt}]\n",
        "print(get_chat(messages))"
      ]
    },
    {
      "cell_type": "markdown",
      "metadata": {
        "id": "u3f1TCax5QUR"
      },
      "source": [
        "# Generate SQL Queries from natural language"
      ]
    },
    {
      "cell_type": "code",
      "execution_count": null,
      "metadata": {
        "colab": {
          "base_uri": "https://localhost:8080/"
        },
        "id": "X-ghdsec5Msf",
        "outputId": "b205c394-23a4-4c00-c726-30ce05d0b274"
      },
      "outputs": [
        {
          "name": "stdout",
          "output_type": "stream",
          "text": [
            "SELECT AVG(total_order_value) AS average_order_value\n",
            "FROM (\n",
            "  SELECT o.OrderID, SUM(p.UnitPrice * od.Quantity) AS total_order_value\n",
            "  FROM Orders o\n",
            "  INNER JOIN OrderDetails od ON o.OrderID = od.OrderID\n",
            "  INNER JOIN Products p ON od.ProductID = p.ProductID\n",
            "  WHERE o.OrderDate = '2023-09-20'\n",
            "  GROUP BY o.OrderID\n",
            ") AS order_totals;\n"
          ]
        }
      ],
      "source": [
        "table_code = \"\"\"\n",
        "CREATE TABLE Orders (\n",
        "  OrderID int,\n",
        "  CustomerID int,\n",
        "  OrderDate datetime,\n",
        "  OrderTime varchar(8),\n",
        "  PRIMARY KEY (OrderID)\n",
        ");\n",
        "\n",
        "CREATE TABLE OrderDetails (\n",
        "  OrderDetailID int,\n",
        "  OrderID int,\n",
        "  ProductID int,\n",
        "  Quantity int,\n",
        "  PRIMARY KEY (OrderDetailID)\n",
        ");\n",
        "\n",
        "CREATE TABLE Products (\n",
        "  ProductID int,\n",
        "  ProductName varchar(50),\n",
        "  Category varchar(50),\n",
        "  UnitPrice decimal(10, 2),\n",
        "  Stock int,\n",
        "  PRIMARY KEY (ProductID)\n",
        ");\n",
        "\n",
        "CREATE TABLE Customers (\n",
        "  CustomerID int,\n",
        "  FirstName varchar(50),\n",
        "  LastName varchar(50),\n",
        "  Email varchar(100),\n",
        "  Phone varchar(20),\n",
        "  PRIMARY KEY (CustomerID)\n",
        ");\n",
        "\"\"\"\n",
        "\n",
        "messages = [{\"role\":\"system\",'content':f\"\"\" Given the following SQL tables, your job is to write queries given a user's input request.\n",
        "\n",
        "Tables: {table_code}\n",
        "\"\"\"},\n",
        "            {\"role\":\"user\",'content':\"Write a query which calculates the average of total order values for all orders on 20-09-2023\"}]\n",
        "\n",
        "print(get_chat(messages))"
      ]
    },
    {
      "cell_type": "markdown",
      "metadata": {
        "id": "XlkePjd0L8N5"
      },
      "source": [
        "# Code from Description"
      ]
    },
    {
      "cell_type": "code",
      "execution_count": null,
      "metadata": {
        "id": "XJZ2F754L5Ii",
        "outputId": "01171e9d-4aa3-4514-a03f-0db9da31f34b"
      },
      "outputs": [
        {
          "name": "stdout",
          "output_type": "stream",
          "text": [
            "Here's a Python function that takes a file path to an image, loads the image into memory as a numpy array, and crops the rows and columns around the perimeter if they are darker than a threshold value:\n",
            "\n",
            "```python\n",
            "import cv2\n",
            "import numpy as np\n",
            "\n",
            "def crop_dark_perimeter(image_path, threshold):\n",
            "    # Load the image\n",
            "    image = cv2.imread(image_path)\n",
            "\n",
            "    # Convert the image to grayscale\n",
            "    gray_image = cv2.cvtColor(image, cv2.COLOR_BGR2GRAY)\n",
            "\n",
            "    # Calculate the mean value of rows and columns\n",
            "    row_means = np.mean(gray_image, axis=1)\n",
            "    col_means = np.mean(gray_image, axis=0)\n",
            "\n",
            "    # Find the rows and columns to be cropped\n",
            "    rows_to_crop = np.where(row_means < threshold)[0]\n",
            "    cols_to_crop = np.where(col_means < threshold)[0]\n",
            "\n",
            "    # Crop the image\n",
            "    cropped_image = image[rows_to_crop[0]:rows_to_crop[-1]+1, cols_to_crop[0]:cols_to_crop[-1]+1]\n",
            "\n",
            "    return cropped_image\n",
            "```\n",
            "\n",
            "In this function, we use the OpenCV library to load the image and convert it to grayscale. Then, we calculate the mean value of rows and columns using numpy's `mean` function. We find the rows and columns that have a mean value below the threshold and use them to crop the image using array slicing. Finally, we return the cropped image.\n",
            "\n",
            "You can call this function by providing the file path to the image and the threshold value. For example:\n",
            "\n",
            "```python\n",
            "image_path = 'path/to/image.jpg'\n",
            "threshold = 100\n",
            "cropped_image = crop_dark_perimeter(image_path, threshold)\n",
            "```\n",
            "\n",
            "Make sure to replace `'path/to/image.jpg'` with the actual file path to your image, and adjust the threshold value as needed.\n"
          ]
        }
      ],
      "source": [
        "\n",
        "messages = [{\"role\":\"user\",'content':\"\"\"\n",
        "Create a python function which takes as input a file path to an image, loads the image into memory as a numpy array,\n",
        "then crops the rows and columns around the perimeter if they are darker than a threshold value. Use the mean value of rows and columns to decide if they should be marked for deletion.\n",
        "\"\"\"}]\n",
        "\n",
        "print(get_chat(messages))"
      ]
    },
    {
      "cell_type": "code",
      "execution_count": null,
      "metadata": {
        "id": "zuZ6Pyoh5FcM",
        "outputId": "3fbbd68e-3ad6-4c02-c7bb-8f67afe9714b"
      },
      "outputs": [
        {
          "name": "stdout",
          "output_type": "stream",
          "text": [
            "def crop_image(file_path, threshold):\n",
            "    import cv2\n",
            "    import numpy as np\n",
            "    \n",
            "    # Load the image\n",
            "    image = cv2.imread(file_path)\n",
            "    \n",
            "    # Convert the image to grayscale\n",
            "    gray_image = cv2.cvtColor(image, cv2.COLOR_BGR2GRAY)\n",
            "    \n",
            "    # Calculate the mean value of rows and columns\n",
            "    row_means = np.mean(gray_image, axis=1)\n",
            "    col_means = np.mean(gray_image, axis=0)\n",
            "    \n",
            "    # Find the rows and columns to be cropped\n",
            "    rows_to_crop = np.where(row_means < threshold)[0]\n",
            "    cols_to_crop = np.where(col_means < threshold)[0]\n",
            "    \n",
            "    # Crop the image\n",
            "    cropped_image = image[rows_to_crop[0]:rows_to_crop[-1]+1, cols_to_crop[0]:cols_to_crop[-1]+1]\n",
            "    \n",
            "    return cropped_image\n",
            "\n",
            "# Convert the function code to string format\n",
            "function_code = inspect.getsource(crop_image)\n",
            "print(function_code)\n"
          ]
        }
      ],
      "source": [
        "\n",
        "messages = [{\"role\":\"user\",'content':\"\"\"\n",
        "Create a python function which takes as input a file path to an image, loads the image into memory as a numpy array,\n",
        "then crops the rows and columns around the perimeter if they are darker than a threshold value. Use the mean value of rows and columns to decide if they should be marked for deletion.\n",
        "Make sure the output is only the python function code in string format.\n",
        "\n",
        "\"\"\"}]\n",
        "\n",
        "print(get_chat(messages))"
      ]
    },
    {
      "cell_type": "markdown",
      "metadata": {
        "id": "YX6jG58SNCt5"
      },
      "source": [
        "# Bug fixing in a given code"
      ]
    },
    {
      "cell_type": "code",
      "execution_count": null,
      "metadata": {
        "colab": {
          "base_uri": "https://localhost:8080/"
        },
        "id": "_V-_QKEDM6b0",
        "outputId": "ac90d61a-ff90-4877-e15c-304be68a96b7"
      },
      "outputs": [
        {
          "name": "stdout",
          "output_type": "stream",
          "text": [
            "There are a few issues with the code provided. Here's the corrected version:\n",
            "\n",
            "qus = \"What is 4+2+9*8?\"\n",
            "ans = input(qus)\n",
            "if ans == \"12\":\n",
            "  print(\"None\")\n",
            "  print(\"hello\")\n",
            "else:\n",
            "  print(\"bye\")\n"
          ]
        }
      ],
      "source": [
        "\n",
        "messages = [{\"role\":\"system\",'content':\"\"\"\n",
        "you will be provided with a piece of python code, and your task is to find and fix the bug in it.\"\"\"},\n",
        "            {\"role\":\"user\",'content':\"\"\"\n",
        "qus = \"WHat is 4+2+9*8 ?\"\n",
        "ans = input(qus)\n",
        "if ans = 12:\n",
        "  print(none)\n",
        "  print(\"hello)\n",
        "else:\n",
        "  print(\"bye\")\n",
        "\"\"\"}]\n",
        "\n",
        "print(get_chat(messages))"
      ]
    },
    {
      "cell_type": "markdown",
      "metadata": {
        "id": "KuksuBWBM8U4"
      },
      "source": [
        "# Change Coding Language\n"
      ]
    },
    {
      "cell_type": "code",
      "execution_count": null,
      "metadata": {
        "id": "rXNnJ1klNxbB",
        "outputId": "591b3a5b-092b-47fb-fe99-3c2fe09dea62"
      },
      "outputs": [
        {
          "name": "stdout",
          "output_type": "stream",
          "text": [
            "#include <stdio.h>\n",
            "\n",
            "void print_squares(int n) {\n",
            "    for (int i = 1; i <= n; i++) {\n",
            "        printf(\"%d\\n\", i * i);\n",
            "    }\n",
            "}\n"
          ]
        }
      ],
      "source": [
        "# Changing coding language from python to c\n",
        "\n",
        "code = \"\"\"\n",
        "def print_squares(n):\n",
        "    for i in range(1, n+1):\n",
        "        print(i**2)\n",
        "        \"\"\"\n",
        "\n",
        "messages = [{\"role\":\"system\",'content':\"\"\"you will be provided with a piece of python code, and your task is to convert it to c.\"\"\"},\n",
        "            {\"role\":\"user\",'content':code}]\n",
        "print(get_chat(messages))"
      ]
    },
    {
      "cell_type": "markdown",
      "metadata": {
        "id": "QcAFj6nqM8U5"
      },
      "source": [
        "# Write unit tests"
      ]
    },
    {
      "cell_type": "code",
      "execution_count": null,
      "metadata": {
        "id": "pkJJQOgxM8U5",
        "outputId": "7b961033-52a5-48f6-d798-ce3c96b62d8b"
      },
      "outputs": [
        {
          "name": "stdout",
          "output_type": "stream",
          "text": [
            "Sure! Here are three unit tests for the `binary_search` function:\n",
            "\n",
            "1. Test when the target is in the middle of the array:\n",
            "```python\n",
            "def test_binary_search_middle():\n",
            "    arr = [1, 2, 3, 4, 5]\n",
            "    target = 3\n",
            "    assert binary_search(arr, target) == 2\n",
            "```\n",
            "\n",
            "2. Test when the target is the first element of the array:\n",
            "```python\n",
            "def test_binary_search_first():\n",
            "    arr = [1, 2, 3, 4, 5]\n",
            "    target = 1\n",
            "    assert binary_search(arr, target) == 0\n",
            "```\n",
            "\n",
            "3. Test when the target is the last element of the array:\n",
            "```python\n",
            "def test_binary_search_last():\n",
            "    arr = [1, 2, 3, 4, 5]\n",
            "    target = 5\n",
            "    assert binary_search(arr, target) == 4\n",
            "```\n",
            "\n",
            "These tests cover different scenarios such as finding the target in the middle, at the beginning, and at the end of the array.\n"
          ]
        }
      ],
      "source": [
        "# write unit tests for a given code\n",
        "\n",
        "code = \"\"\"\n",
        "def binary_search(arr, target):\n",
        "    left, right = 0, len(arr) - 1\n",
        "    while left <= right:\n",
        "        mid = (left + right) // 2\n",
        "        if arr[mid] == target:\n",
        "            return mid\n",
        "        elif arr[mid] < target:\n",
        "            left = mid + 1\n",
        "        else:\n",
        "            right = mid - 1\n",
        "    return -1\n",
        "\"\"\"\n",
        "prompt = f\"\"\"\n",
        "Write 3 unit tests for the following function:\n",
        "{code}\n",
        "\"\"\"\n",
        "messages = [{\"role\":\"system\",'content':\"\"\"you will be provided with a piece of python code, and your task is to write unit tests for it.\"\"\"},\n",
        "            {\"role\":\"user\",'content':prompt}]\n",
        "\n",
        "print(get_chat(messages))"
      ]
    },
    {
      "cell_type": "markdown",
      "metadata": {
        "id": "ayKyGdjhM8U5"
      },
      "source": [
        "# Add comments and generate documentation"
      ]
    },
    {
      "cell_type": "code",
      "execution_count": null,
      "metadata": {
        "id": "F22cGYrTM8U5",
        "outputId": "ec6a1cbc-0d16-4820-e3e6-6d5ef7d2ec2a"
      },
      "outputs": [
        {
          "name": "stdout",
          "output_type": "stream",
          "text": [
            "def permutations(lst):\n",
            "    \"\"\"\n",
            "    This function takes a list as input and returns a list of all possible permutations of the elements in the input list.\n",
            "\n",
            "    Args:\n",
            "    lst (list): The input list for which permutations need to be generated.\n",
            "\n",
            "    Returns:\n",
            "    list: A list of all possible permutations of the elements in the input list.\n",
            "    \"\"\"\n",
            "\n",
            "    if len(lst) == 0:  # If the input list is empty\n",
            "        return []  # Return an empty list\n",
            "\n",
            "    elif len(lst) == 1:  # If the input list has only one element\n",
            "        return [lst]  # Return a list containing the input list itself\n",
            "\n",
            "    else:  # If the input list has more than one element\n",
            "        result = []  # Initialize an empty list to store the permutations\n",
            "\n",
            "        for i in range(len(lst)):  # Iterate through each element in the input list\n",
            "            temp = lst[i]  # Store the current element in a temporary variable\n",
            "            remaining = lst[:i] + lst[i+1:]  # Create a new list with the current element removed\n",
            "\n",
            "            for p in permutations(remaining):  # Recursively call the permutations function on the remaining list\n",
            "                result.append([temp] + p)  # Append the current element to each permutation and add it to the result list\n",
            "\n",
            "        return result  # Return the list of all permutations\n"
          ]
        }
      ],
      "source": [
        "# Add comments and generate documentation\n",
        "\n",
        "code = \"\"\"\n",
        "def permutations(lst):\n",
        "    if len(lst) == 0:\n",
        "        return []\n",
        "    elif len(lst) == 1:\n",
        "        return [lst]\n",
        "    else:\n",
        "        result = []\n",
        "        for i in range(len(lst)):\n",
        "            temp = lst[i]\n",
        "            remaining = lst[:i] + lst[i+1:]\n",
        "            for p in permutations(remaining):\n",
        "                result.append([temp] + p)\n",
        "        return result\n",
        "\n",
        "\"\"\"\n",
        "\n",
        "prompt = f\"\"\" Add comments and documentation strings to the following function: {code}\"\"\"\n",
        "\n",
        "\n",
        "messages = [{\"role\":\"system\",'content':\"\"\"you will be provided with a piece of python code, and your task is to add comments and documentation strings to it.\"\"\"},\n",
        "            {\"role\":\"user\",'content':prompt}]\n",
        "print(get_chat(messages))"
      ]
    },
    {
      "cell_type": "code",
      "execution_count": null,
      "metadata": {
        "id": "ng93o9qAM8U5"
      },
      "outputs": [],
      "source": []
    },
    {
      "cell_type": "markdown",
      "source": [
        "# Zero Shot Prompting"
      ],
      "metadata": {
        "id": "xL9DKWHkDpXR"
      }
    },
    {
      "cell_type": "code",
      "execution_count": null,
      "metadata": {
        "id": "LILta5HxUa9C",
        "outputId": "b47fc056-94cf-4431-fcb1-6ec49979d342",
        "colab": {
          "base_uri": "https://localhost:8080/"
        }
      },
      "outputs": [
        {
          "output_type": "stream",
          "name": "stdout",
          "text": [
            "```python\n",
            "def factorial(n):\n",
            "  \"\"\"\n",
            "  This function calculates the factorial of a given number.\n",
            "\n",
            "  Args:\n",
            "    n: The number to calculate the factorial of.\n",
            "\n",
            "  Returns:\n",
            "    The factorial of n.\n",
            "  \"\"\"\n",
            "  if n == 0:\n",
            "    return 1\n",
            "  else:\n",
            "    return n * factorial(n - 1)\n",
            "\n",
            "# Calculate factorial(5)\n",
            "result = factorial(5)\n",
            "print(f\"The factorial of 5 is: {result}\")\n",
            "```\n",
            "\n",
            "**Explanation:**\n",
            "\n",
            "1. **Function Definition:** \n",
            "   - The code defines a function named `factorial(n)` that takes an integer `n` as input.\n",
            "\n",
            "2. **Base Case:**\n",
            "   - `if n == 0:`: This condition handles the base case for the recursive function. The factorial of 0 is defined as 1.\n",
            "   - `return 1`:  If `n` is 0, the function immediately returns 1.\n",
            "\n",
            "3. **Recursive Step:**\n",
            "   - `else:`: This block handles the recursive step. \n",
            "   - `return n * factorial(n - 1)`: This line calculates the factorial recursively. It multiplies `n` with the result of calling the `factorial` function with `n-1`. This process continues until the base case (n=0) is reached.\n",
            "\n",
            "4. **Function Call:**\n",
            "   - `result = factorial(5)`: This line calls the `factorial` function with the input 5 and stores the result in the `result` variable.\n",
            "\n",
            "5. **Output:**\n",
            "   - `print(f\"The factorial of 5 is: {result}\")`:  This line prints the calculated factorial of 5.\n",
            "\n",
            "**How it works:**\n",
            "\n",
            "The `factorial` function uses recursion to calculate the factorial. Recursion means a function calling itself. In this case, the function calls itself with a smaller value of `n` until it reaches the base case (n=0).  \n",
            "\n",
            "**Example Breakdown:**\n",
            "\n",
            "- `factorial(5)` calls `factorial(4)`, `factorial(4)` calls `factorial(3)`, and so on until it reaches `factorial(0)`.\n",
            "- `factorial(0)` returns 1.\n",
            "- `factorial(1)` returns 1 * factorial(0) = 1 * 1 = 1.\n",
            "- `factorial(2)` returns 2 * factorial(1) = 2 * 1 = 2.\n",
            "- ... and so on, until `factorial(5)` returns 5 * 4 * 3 * 2 * 1 = 120.\n",
            "\n",
            "This code demonstrates a common and elegant way to calculate factorials using recursion in Python. \n",
            "\n"
          ]
        }
      ],
      "source": [
        "prompt = \"\"\"\n",
        "Write a python code to generate factorial for any give input number, consider writing a python function.\n",
        "\n",
        "Calculate factorial(5)\n",
        "\"\"\"\n",
        "\n",
        "print(get_chat(prompt))"
      ]
    },
    {
      "cell_type": "markdown",
      "source": [
        "# Few Shot Prompting"
      ],
      "metadata": {
        "id": "-K2TgShvEhrG"
      }
    },
    {
      "cell_type": "code",
      "execution_count": null,
      "metadata": {
        "id": "7F5Eh3jWUa9C",
        "outputId": "84160dc8-d1de-49e2-bbde-4d79ff1b23b3",
        "colab": {
          "base_uri": "https://localhost:8080/"
        }
      },
      "outputs": [
        {
          "output_type": "stream",
          "name": "stdout",
          "text": [
            "```python\n",
            "def factorial(n):\n",
            "  \"\"\"\n",
            "  This function calculates the factorial of a non-negative integer.\n",
            "\n",
            "  Args:\n",
            "    n: The non-negative integer for which the factorial is to be calculated.\n",
            "\n",
            "  Returns:\n",
            "    The factorial of n.\n",
            "  \"\"\"\n",
            "  if n == 0:\n",
            "    return 1\n",
            "  else:\n",
            "    return n * factorial(n - 1)\n",
            "\n",
            "print(factorial(9))\n",
            "```\n",
            "\n",
            "**Output:** 362880\n",
            "\n",
            "**Explanation:**\n",
            "\n",
            "1. **Function Definition:** The code defines a function called `factorial(n)` which takes a non-negative integer `n` as input.\n",
            "\n",
            "2. **Base Case:** The function handles the base case where `n` is 0. The factorial of 0 is defined as 1. \n",
            "\n",
            "3. **Recursive Step:** If `n` is not 0, the function calculates the factorial recursively by multiplying `n` with the factorial of `n-1`.\n",
            "\n",
            "4. **Function Call:**  The line `print(factorial(9))` calls the `factorial` function with the input `9` and prints the result, which is 362880.\n",
            "\n",
            "**Key Concepts:**\n",
            "\n",
            "* **Recursion:** The `factorial` function calls itself within its definition, leading to a recursive solution.\n",
            "* **Base Case:** A base case is essential for terminating the recursion and preventing infinite loops.\n",
            "\n",
            "**Best Practices:**\n",
            "\n",
            "* **Clear Function Naming:** The function name `factorial` is descriptive and easy to understand.\n",
            "* **Docstring:** The function has a docstring that explains its purpose, arguments, and return value.\n",
            "* **Recursion:**  Using recursion for factorial calculation is a common and elegant approach.\n",
            "* **Code Readability:** The code is well-formatted and easy to read. \n",
            "\n"
          ]
        }
      ],
      "source": [
        "# Few shot prompting to generate factorial\n",
        "prompt = \"\"\"\n",
        "factorial(5)\n",
        "Ans:  120\n",
        "\n",
        "factorial(3)\n",
        "Ans:  6\n",
        "\n",
        "factorial(9)\n",
        "\"\"\"\n",
        "print(get_chat(prompt))"
      ]
    },
    {
      "cell_type": "code",
      "source": [
        "prompt = \"\"\"\n",
        "\n",
        "Question:\n",
        "You are given a Pandas dataframe named students_df:\n",
        "- Columns: ['Name', 'Nationality', 'Overall Grade', 'Age', 'Major', 'GPA']\n",
        "User's Question: How to find the youngest student?\n",
        "\n",
        "Answer:\n",
        "result = students_df[students_df['Age'] == students_df['Age'].min()]\n",
        "\n",
        "Question:\n",
        "You are given a Pandas dataframe named students_df:\n",
        "- Columns: ['Name', 'Nationality', 'Overall Grade', 'Age', 'Major', 'GPA']\n",
        "User's Question: What are the number of unique majors?\n",
        "\n",
        "Answer:\n",
        "result = students_df['Major'].nunique()\n",
        "\n",
        "Question:\n",
        "You are given a Pandas dataframe named students_df:\n",
        "- Columns: ['Name', 'Nationality', 'Overall Grade', 'Age', 'Major', 'GPA']\n",
        "User's Question: How to find the students with GPAs between 3.5 and 3.8?\n",
        "\"\"\"\n",
        "\n",
        "print(get_chat(prompt))"
      ],
      "metadata": {
        "id": "f5nprs2BE6Z8",
        "outputId": "8296359b-e74e-4aab-96c8-e52c311b84e0",
        "colab": {
          "base_uri": "https://localhost:8080/"
        }
      },
      "execution_count": null,
      "outputs": [
        {
          "output_type": "stream",
          "name": "stdout",
          "text": [
            "```python\n",
            "result = students_df[(students_df['GPA'] >= 3.5) & (students_df['GPA'] <= 3.8)]\n",
            "```\n"
          ]
        }
      ]
    },
    {
      "cell_type": "code",
      "source": [
        "# Zero Shot Prompting with context\n",
        "prompt = \"\"\"\n",
        "\n",
        "For a custom instruction based interpreter, below are standard set of commands and their description.\n",
        "\n",
        "command,description,\n",
        "<INIT>,initiating conversation,\n",
        "<ASK>, asking user input,\n",
        "<ANSWER>, providing answer,\n",
        "<TERMINATE>,terminating conversation,\n",
        "<CALL>, calling a function,\n",
        "<END>,Ending conversation\n",
        "\n",
        "write a code using custom instruction from above context for below task\n",
        "\n",
        "the code should initiate conversation, ask for user input and end conversation, Do not write any other text, do not write explanation only commands in sequence.\n",
        "\"\"\"\n",
        "\n",
        "print(get_chat(prompt))\n"
      ],
      "metadata": {
        "id": "5xN65rcYHa3v",
        "outputId": "be3e62f4-a6b6-475d-b01d-fa4e52004030",
        "colab": {
          "base_uri": "https://localhost:8080/"
        }
      },
      "execution_count": null,
      "outputs": [
        {
          "output_type": "stream",
          "name": "stdout",
          "text": [
            "<INIT>,<ASK>,<ANSWER>,<END> \n",
            "\n"
          ]
        }
      ]
    },
    {
      "cell_type": "code",
      "source": [
        "# Few shot prompting with context\n",
        "prompt = \"\"\"\n",
        "\n",
        "For a custom instruction based interpreter, below are standard set of commands and their description.\n",
        "\n",
        "command,description,\n",
        "<INIT>,initiating conversation,\n",
        "<ASK>, asking user input,\n",
        "<ANSWER>, providing answer,\n",
        "<TERMINATE>,terminating conversation,\n",
        "<CALL>, calling a function,\n",
        "<END>,Ending conversation\n",
        "\n",
        "\n",
        "QUS: initiate conversation, ask for user input and end conversation\n",
        "ANS: <INIT>,<ASK>,<ANSWER>,<END>\n",
        "\n",
        "QUS: initiate conversation, ask user input, call a function and end conversation\n",
        "ANS: <INIT>,<ASK>,<CALL>,<ANSWER>,<END>\n",
        "\n",
        "QUS: initiate conversation, procide answer, terminate conversation\n",
        "ANS:\n",
        "\"\"\"\n",
        "\n",
        "print(get_chat(prompt))\n"
      ],
      "metadata": {
        "id": "Yge48eqTHa0o",
        "outputId": "2d99f6ca-0c02-49c1-8e05-87cd1eb173ee",
        "colab": {
          "base_uri": "https://localhost:8080/"
        }
      },
      "execution_count": null,
      "outputs": [
        {
          "output_type": "stream",
          "name": "stdout",
          "text": [
            "ANS: `<INIT>,<ANSWER>,<TERMINATE>` \n",
            "\n"
          ]
        }
      ]
    },
    {
      "cell_type": "markdown",
      "source": [
        "# Chain of Thought Prompting"
      ],
      "metadata": {
        "id": "Dd7teyfvFdST"
      }
    },
    {
      "cell_type": "code",
      "source": [
        "# without CoT\n",
        "prompt = \"\"\"\n",
        "Write a Python program that counts the occurrences of each word in a given text file and prints the result sorted by frequency.\n",
        "\n",
        "\"\"\"\n",
        "\n",
        "print(get_chat(prompt))"
      ],
      "metadata": {
        "colab": {
          "base_uri": "https://localhost:8080/"
        },
        "id": "fhmYexg0KD6k",
        "outputId": "08b287ca-b81b-492d-fdab-f38d64fd72cb"
      },
      "execution_count": null,
      "outputs": [
        {
          "output_type": "stream",
          "name": "stdout",
          "text": [
            "```python\n",
            "from collections import Counter\n",
            "\n",
            "def count_word_occurrences(filename):\n",
            "    \"\"\"\n",
            "    Counts the occurrences of each word in a given text file and prints the result sorted by frequency.\n",
            "\n",
            "    Args:\n",
            "        filename: The name of the text file to process.\n",
            "    \"\"\"\n",
            "\n",
            "    with open(filename, 'r') as file:\n",
            "        text = file.read().lower()  # Read file and convert to lowercase for case-insensitive counting\n",
            "\n",
            "    # Split the text into words using whitespace as a delimiter\n",
            "    words = text.split()\n",
            "\n",
            "    # Use Counter to efficiently count word occurrences\n",
            "    word_counts = Counter(words)\n",
            "\n",
            "    # Sort the word counts by frequency in descending order\n",
            "    sorted_word_counts = word_counts.most_common()\n",
            "\n",
            "    # Print the results\n",
            "    print(\"Word Frequency:\")\n",
            "    for word, count in sorted_word_counts:\n",
            "        print(f\"{word}: {count}\")\n",
            "\n",
            "# Example usage\n",
            "filename = \"your_text_file.txt\"  # Replace with the actual filename\n",
            "count_word_occurrences(filename)\n",
            "```\n",
            "\n",
            "**Explanation:**\n",
            "\n",
            "1. **Import `Counter`:** We import the `Counter` class from the `collections` module. This class provides a convenient way to count hashable objects (like words).\n",
            "2. **Function Definition:** We define a function `count_word_occurrences` that takes the filename as input.\n",
            "3. **File Handling:**\n",
            "   - The `with open(...) as file:` block opens the file for reading in a safe way.\n",
            "   - We read the entire file content using `file.read()`.\n",
            "   - We convert the text to lowercase using `.lower()` to make the counting case-insensitive.\n",
            "4. **Word Tokenization:**\n",
            "   - We split the text into a list of words using `text.split()`. This splits the text at whitespace characters (spaces, tabs, newlines).\n",
            "5. **Counting with `Counter`:**\n",
            "   - We create a `Counter` object named `word_counts` and pass the `words` list to it. This automatically counts the occurrences of each unique word.\n",
            "6. **Sorting:**\n",
            "   - We use `word_counts.most_common()` to get a list of (word, count) pairs sorted by count in descending order.\n",
            "7. **Printing Results:**\n",
            "   - We iterate through the `sorted_word_counts` list and print each word and its corresponding count.\n",
            "\n",
            "**To use this code:**\n",
            "\n",
            "1. **Replace `\"your_text_file.txt\"`** with the actual name of your text file.\n",
            "2. **Save the code** as a Python file (e.g., `word_counter.py`).\n",
            "3. **Run the code** from your terminal: `python word_counter.py`\n",
            "\n",
            "This will print the word frequency analysis for the specified file.\n",
            "\n"
          ]
        }
      ]
    },
    {
      "cell_type": "code",
      "source": [
        "# with CoT\n",
        "prompt = \"\"\"\n",
        "Write a Python program that counts the occurrences of each word in a given text file and prints the result sorted by frequency.\n",
        "\n",
        "First, read the content of the text file.\n",
        "Next, split the content into words.\n",
        "Then, create a dictionary to store word frequencies.\n",
        "After that, iterate through the words and update their counts in the dictionary.\n",
        "Finally, sort the dictionary by frequency and print the results.\n",
        "Feel free to break down each step further if needed.\n",
        "\n",
        "\"\"\"\n",
        "\n",
        "print(get_chat(prompt))"
      ],
      "metadata": {
        "colab": {
          "base_uri": "https://localhost:8080/"
        },
        "id": "n9WgYYSOJ8bf",
        "outputId": "93e67687-b90c-4f55-8279-2cc9de02fa92"
      },
      "execution_count": null,
      "outputs": [
        {
          "output_type": "stream",
          "name": "stdout",
          "text": [
            "```python\n",
            "def count_word_frequencies(filename):\n",
            "  \"\"\"Counts the occurrences of each word in a text file and prints the result sorted by frequency.\n",
            "\n",
            "  Args:\n",
            "    filename: The name of the text file to read.\n",
            "  \"\"\"\n",
            "\n",
            "  # Read the content of the text file.\n",
            "  with open(filename, 'r') as file:\n",
            "    text = file.read()\n",
            "\n",
            "  # Split the content into words.\n",
            "  words = text.lower().split()\n",
            "\n",
            "  # Create a dictionary to store word frequencies.\n",
            "  word_counts = {}\n",
            "\n",
            "  # Iterate through the words and update their counts in the dictionary.\n",
            "  for word in words:\n",
            "    if word in word_counts:\n",
            "      word_counts[word] += 1\n",
            "    else:\n",
            "      word_counts[word] = 1\n",
            "\n",
            "  # Sort the dictionary by frequency.\n",
            "  sorted_word_counts = sorted(word_counts.items(), key=lambda item: item[1], reverse=True)\n",
            "\n",
            "  # Print the results.\n",
            "  for word, count in sorted_word_counts:\n",
            "    print(f\"{word}: {count}\")\n",
            "\n",
            "# Example usage:\n",
            "filename = \"your_text_file.txt\"  # Replace with the actual filename\n",
            "count_word_frequencies(filename)\n",
            "```\n",
            "\n",
            "**Explanation:**\n",
            "\n",
            "1. **`count_word_frequencies(filename)` function:**\n",
            "   - Takes the filename as input.\n",
            "   - Opens the file in read mode (`'r'`) using `with open(filename, 'r') as file:` which ensures the file is automatically closed after use.\n",
            "   - Reads the entire file content into the `text` variable.\n",
            "   - Converts the text to lowercase using `.lower()` to ensure case-insensitive counting.\n",
            "   - Splits the text into words using `.split()`.\n",
            "   - Creates an empty dictionary `word_counts` to store word frequencies.\n",
            "\n",
            "2. **Iterating through words and counting:**\n",
            "   - Uses a `for` loop to iterate through each `word` in the `words` list.\n",
            "   - Checks if the `word` already exists in the `word_counts` dictionary.\n",
            "     - If it does, increment its count by 1.\n",
            "     - If it doesn't, add the `word` to the dictionary with a count of 1.\n",
            "\n",
            "3. **Sorting by frequency:**\n",
            "   - Uses `sorted(word_counts.items(), key=lambda item: item[1], reverse=True)` to sort the dictionary by frequency.\n",
            "     - `word_counts.items()` converts the dictionary into key-value pairs.\n",
            "     - `key=lambda item: item[1]` specifies that sorting should be based on the value (count) of each item.\n",
            "     - `reverse=True` sorts in descending order (highest frequency first).\n",
            "\n",
            "4. **Printing results:**\n",
            "   - Iterates through the sorted `sorted_word_counts` list.\n",
            "   - For each `word` and `count` pair, prints them in the format \"word: count\".\n",
            "\n",
            "**To use this code:**\n",
            "\n",
            "1. Replace `\"your_text_file.txt\"` with the actual name of your text file.\n",
            "2. Run the Python script.\n",
            "\n",
            "This will print the words in your text file along with their frequencies, sorted from most frequent to least frequent.\n",
            "\n"
          ]
        }
      ]
    },
    {
      "cell_type": "markdown",
      "source": [
        "## Thank You"
      ],
      "metadata": {
        "id": "Is3KP_pzFmIX"
      }
    },
    {
      "cell_type": "code",
      "execution_count": null,
      "metadata": {
        "id": "XgLxLVaGM8U5"
      },
      "outputs": [],
      "source": []
    }
  ],
  "metadata": {
    "colab": {
      "provenance": []
    },
    "kernelspec": {
      "display_name": "Python 3",
      "name": "python3"
    },
    "language_info": {
      "codemirror_mode": {
        "name": "ipython",
        "version": 3
      },
      "file_extension": ".py",
      "mimetype": "text/x-python",
      "name": "python",
      "nbconvert_exporter": "python",
      "pygments_lexer": "ipython3",
      "version": "3.10.9"
    }
  },
  "nbformat": 4,
  "nbformat_minor": 0
}